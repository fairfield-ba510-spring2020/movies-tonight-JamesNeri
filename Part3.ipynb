{
 "cells": [
  {
   "cell_type": "markdown",
   "metadata": {},
   "source": [
    "# Movies Tonight Part 3: SQL DML"
   ]
  },
  {
   "cell_type": "code",
   "execution_count": 2,
   "metadata": {},
   "outputs": [
    {
     "data": {
      "text/plain": [
       "'Connected: @Movies.db'"
      ]
     },
     "execution_count": 2,
     "metadata": {},
     "output_type": "execute_result"
    }
   ],
   "source": [
    "%load_ext sql\n",
    "%sql sqlite:///Movies.db"
   ]
  },
  {
   "cell_type": "markdown",
   "metadata": {},
   "source": [
    "1. **Load the `DATASET.csv` file into the `Movies.db` database.**  \n",
    "    - Import the CSV file to create a new table called `DATASET`. Follow the example [here](http://www.sqlitetutorial.net/sqlite-import-csv/).\n",
    "    - Use a [`PRAGMA table-info` pseudo-query](https://www.sqlite.org/pragma.html#pragma_table_info) to inspect the design of the new table. [How are we going to handle dates](https://www.sqlite.org/datatype3.html)?"
   ]
  },
  {
   "cell_type": "code",
   "execution_count": 3,
   "metadata": {},
   "outputs": [
    {
     "name": "stdout",
     "output_type": "stream",
     "text": [
      " * sqlite:///Movies.db\n",
      "Done.\n",
      "Done.\n"
     ]
    },
    {
     "data": {
      "text/html": [
       "<table>\n",
       "    <tr>\n",
       "        <th>cid</th>\n",
       "        <th>name</th>\n",
       "        <th>type</th>\n",
       "        <th>notnull</th>\n",
       "        <th>dflt_value</th>\n",
       "        <th>pk</th>\n",
       "    </tr>\n",
       "    <tr>\n",
       "        <td>0</td>\n",
       "        <td>TName</td>\n",
       "        <td>TEXT</td>\n",
       "        <td>0</td>\n",
       "        <td>None</td>\n",
       "        <td>0</td>\n",
       "    </tr>\n",
       "    <tr>\n",
       "        <td>1</td>\n",
       "        <td>Location</td>\n",
       "        <td>TEXT</td>\n",
       "        <td>0</td>\n",
       "        <td>None</td>\n",
       "        <td>0</td>\n",
       "    </tr>\n",
       "    <tr>\n",
       "        <td>2</td>\n",
       "        <td>Phone</td>\n",
       "        <td>TEXT</td>\n",
       "        <td>0</td>\n",
       "        <td>None</td>\n",
       "        <td>0</td>\n",
       "    </tr>\n",
       "    <tr>\n",
       "        <td>3</td>\n",
       "        <td>MTitle</td>\n",
       "        <td>TEXT</td>\n",
       "        <td>0</td>\n",
       "        <td>None</td>\n",
       "        <td>0</td>\n",
       "    </tr>\n",
       "    <tr>\n",
       "        <td>4</td>\n",
       "        <td>ShowTime</td>\n",
       "        <td>TEXT</td>\n",
       "        <td>0</td>\n",
       "        <td>None</td>\n",
       "        <td>0</td>\n",
       "    </tr>\n",
       "    <tr>\n",
       "        <td>5</td>\n",
       "        <td>Rating</td>\n",
       "        <td>TEXT</td>\n",
       "        <td>0</td>\n",
       "        <td>None</td>\n",
       "        <td>0</td>\n",
       "    </tr>\n",
       "    <tr>\n",
       "        <td>6</td>\n",
       "        <td>CCode</td>\n",
       "        <td>TEXT</td>\n",
       "        <td>0</td>\n",
       "        <td>None</td>\n",
       "        <td>0</td>\n",
       "    </tr>\n",
       "    <tr>\n",
       "        <td>7</td>\n",
       "        <td>CName</td>\n",
       "        <td>TEXT</td>\n",
       "        <td>0</td>\n",
       "        <td>None</td>\n",
       "        <td>0</td>\n",
       "    </tr>\n",
       "</table>"
      ],
      "text/plain": [
       "[(0, 'TName', 'TEXT', 0, None, 0),\n",
       " (1, 'Location', 'TEXT', 0, None, 0),\n",
       " (2, 'Phone', 'TEXT', 0, None, 0),\n",
       " (3, 'MTitle', 'TEXT', 0, None, 0),\n",
       " (4, 'ShowTime', 'TEXT', 0, None, 0),\n",
       " (5, 'Rating', 'TEXT', 0, None, 0),\n",
       " (6, 'CCode', 'TEXT', 0, None, 0),\n",
       " (7, 'CName', 'TEXT', 0, None, 0)]"
      ]
     },
     "execution_count": 3,
     "metadata": {},
     "output_type": "execute_result"
    }
   ],
   "source": [
    "%%sql \n",
    "SELECT * FROM DATASET LIMIT 10;\n",
    "PRAGMA table_info(DATASET)"
   ]
  },
  {
   "cell_type": "markdown",
   "metadata": {},
   "source": [
    "2. **Populate the tables with data.**  \n",
    "\n",
    "    - Use `INSERT ... SELECT ...` queries to extract data from `DATASET` for each table of your other tables. \n",
    "    - Start with the strong entities before moving on to the weak ones. Be sure to always select distinct     values. \n",
    "    - Foreign Keys get special treatment. You will have to use JOINs to pick up the PKs from the other side of the relationships. (As in Part 1, use the fact that movie names, theater names, and people names are always unique in our source data. That way you can use then for the JOIN columns. \n",
    "    - If you have to start over, then rerun your DDL queries from Part 2. "
   ]
  },
  {
   "cell_type": "code",
   "execution_count": 4,
   "metadata": {},
   "outputs": [
    {
     "name": "stdout",
     "output_type": "stream",
     "text": [
      " * sqlite:///Movies.db\n",
      "23 rows affected.\n",
      "23 rows affected.\n",
      "Done.\n",
      "9 rows affected.\n",
      "9 rows affected.\n",
      "Done.\n",
      "153 rows affected.\n",
      "153 rows affected.\n",
      "Done.\n",
      "131 rows affected.\n",
      "131 rows affected.\n",
      "Done.\n",
      "162 rows affected.\n",
      "162 rows affected.\n"
     ]
    },
    {
     "data": {
      "text/plain": [
       "[]"
      ]
     },
     "execution_count": 4,
     "metadata": {},
     "output_type": "execute_result"
    }
   ],
   "source": [
    "%%sql\n",
    "DELETE FROM MOVIES;\n",
    "INSERT INTO MOVIES(TITLE, RATING)\n",
    "    SELECT DISTINCT MTitle, Rating\n",
    "    FROM DATASET;\n",
    "SELECT *\n",
    "FROM MOVIES;\n",
    "\n",
    "DELETE FROM THEATERS;\n",
    "INSERT INTO THEATERS(NAME, LOCATION, PHONE)\n",
    "    SELECT DISTINCT TName, Location, Phone\n",
    "    FROM DATASET;\n",
    "SELECT *\n",
    "FROM THEATERS;\n",
    "\n",
    "DELETE FROM ARTISTS;\n",
    "INSERT INTO ARTISTS(NAME)\n",
    "    SELECT DISTINCT CName\n",
    "    FROM DATASET;\n",
    "SELECT * \n",
    "FROM ARTISTS;\n",
    "\n",
    "DELETE FROM SHOWS;\n",
    "INSERT INTO SHOWS(SHOWTIME, MID, TID)\n",
    "    SELECT DISTINCT ShowTime, MID, TID\n",
    "    FROM DATASET\n",
    "        JOIN MOVIES ON (MOVIES.TITLE=DATASET.MTitle)\n",
    "        JOIN THEATERS ON (THEATERS.NAME=DATASET.TName);\n",
    "SELECT SHOWTIME, TITLE, NAME \n",
    "FROM SHOWS \n",
    "    JOIN MOVIES USING (MID) \n",
    "    JOIN THEATERS USING (TID);\n",
    "    \n",
    "DELETE FROM CREDITS;\n",
    "INSERT INTO CREDITS(CCODE, AID, MID)\n",
    "SELECT DISTINCT CCode, AID, MID\n",
    "FROM DATASET\n",
    "    JOIN ARTISTS ON (ARTISTS.NAME=DATASET.CName)\n",
    "    JOIN MOVIES ON (MOVIES.TITLE=DATASET.MTitle);\n"
   ]
  },
  {
   "cell_type": "markdown",
   "metadata": {},
   "source": [
    "3. **Check your work.**  \n",
    "There are 9 theaters, 23 movies, 153 artists, 131 shows, and 162 credits."
   ]
  },
  {
   "cell_type": "markdown",
   "metadata": {},
   "source": [
    "YOUR CODE HERE"
   ]
  },
  {
   "cell_type": "markdown",
   "metadata": {},
   "source": [
    "4. **Now check the source data.**  \n",
    "There are actually 13 duplicate rows in the original source data! Can you spot them? Write a SQL query that counts how many times each (MTitle, TName, Showtime, CCode, and CName) appears. Which ones appear more than once?"
   ]
  },
  {
   "cell_type": "code",
   "execution_count": 7,
   "metadata": {},
   "outputs": [
    {
     "name": "stdout",
     "output_type": "stream",
     "text": [
      " * sqlite:///Movies.db\n",
      "Done.\n"
     ]
    },
    {
     "data": {
      "text/html": [
       "<table>\n",
       "    <tr>\n",
       "        <th>MTitle</th>\n",
       "        <th>TName</th>\n",
       "        <th>ShowTime</th>\n",
       "        <th>CCode</th>\n",
       "        <th>CName</th>\n",
       "        <th>COUNT(*)</th>\n",
       "    </tr>\n",
       "    <tr>\n",
       "        <td>Dear God</td>\n",
       "        <td>SOCAL Canyon Springs Cinema</td>\n",
       "        <td>9:00 PM</td>\n",
       "        <td>A</td>\n",
       "        <td>Greg Kinnear</td>\n",
       "        <td>2</td>\n",
       "    </tr>\n",
       "    <tr>\n",
       "        <td>Dear God</td>\n",
       "        <td>SOCAL Canyon Springs Cinema</td>\n",
       "        <td>9:00 PM</td>\n",
       "        <td>A</td>\n",
       "        <td>Hector Elizondo</td>\n",
       "        <td>2</td>\n",
       "    </tr>\n",
       "    <tr>\n",
       "        <td>Dear God</td>\n",
       "        <td>SOCAL Canyon Springs Cinema</td>\n",
       "        <td>9:00 PM</td>\n",
       "        <td>A</td>\n",
       "        <td>Jon Seda</td>\n",
       "        <td>2</td>\n",
       "    </tr>\n",
       "    <tr>\n",
       "        <td>Dear God</td>\n",
       "        <td>SOCAL Canyon Springs Cinema</td>\n",
       "        <td>9:00 PM</td>\n",
       "        <td>A</td>\n",
       "        <td>Laurie Metcalf</td>\n",
       "        <td>2</td>\n",
       "    </tr>\n",
       "    <tr>\n",
       "        <td>Dear God</td>\n",
       "        <td>SOCAL Canyon Springs Cinema</td>\n",
       "        <td>9:00 PM</td>\n",
       "        <td>A</td>\n",
       "        <td>Maria Pitillo</td>\n",
       "        <td>2</td>\n",
       "    </tr>\n",
       "    <tr>\n",
       "        <td>Dear God</td>\n",
       "        <td>SOCAL Canyon Springs Cinema</td>\n",
       "        <td>9:00 PM</td>\n",
       "        <td>A</td>\n",
       "        <td>Roscoe Lee Browne</td>\n",
       "        <td>2</td>\n",
       "    </tr>\n",
       "    <tr>\n",
       "        <td>Dear God</td>\n",
       "        <td>SOCAL Canyon Springs Cinema</td>\n",
       "        <td>9:00 PM</td>\n",
       "        <td>A</td>\n",
       "        <td>Tim Conway</td>\n",
       "        <td>2</td>\n",
       "    </tr>\n",
       "    <tr>\n",
       "        <td>Dear God</td>\n",
       "        <td>SOCAL Canyon Springs Cinema</td>\n",
       "        <td>9:00 PM</td>\n",
       "        <td>D</td>\n",
       "        <td>Garry Marshall</td>\n",
       "        <td>2</td>\n",
       "    </tr>\n",
       "    <tr>\n",
       "        <td>High School High</td>\n",
       "        <td>United Artists Riverside (Galleria) Tyler Mall</td>\n",
       "        <td>9:00 PM</td>\n",
       "        <td>A</td>\n",
       "        <td>Jon Lovitz</td>\n",
       "        <td>2</td>\n",
       "    </tr>\n",
       "    <tr>\n",
       "        <td>High School High</td>\n",
       "        <td>United Artists Riverside (Galleria) Tyler Mall</td>\n",
       "        <td>9:00 PM</td>\n",
       "        <td>A</td>\n",
       "        <td>Mekhi Phifer</td>\n",
       "        <td>2</td>\n",
       "    </tr>\n",
       "    <tr>\n",
       "        <td>High School High</td>\n",
       "        <td>United Artists Riverside (Galleria) Tyler Mall</td>\n",
       "        <td>9:00 PM</td>\n",
       "        <td>A</td>\n",
       "        <td>Tia Carrera</td>\n",
       "        <td>2</td>\n",
       "    </tr>\n",
       "    <tr>\n",
       "        <td>High School High</td>\n",
       "        <td>United Artists Riverside (Galleria) Tyler Mall</td>\n",
       "        <td>9:00 PM</td>\n",
       "        <td>A</td>\n",
       "        <td>and Louise Fletcher</td>\n",
       "        <td>2</td>\n",
       "    </tr>\n",
       "    <tr>\n",
       "        <td>High School High</td>\n",
       "        <td>United Artists Riverside (Galleria) Tyler Mall</td>\n",
       "        <td>9:00 PM</td>\n",
       "        <td>D</td>\n",
       "        <td>Hart Bochner</td>\n",
       "        <td>2</td>\n",
       "    </tr>\n",
       "</table>"
      ],
      "text/plain": [
       "[('Dear God', 'SOCAL Canyon Springs Cinema', '9:00 PM', 'A', 'Greg Kinnear', 2),\n",
       " ('Dear God', 'SOCAL Canyon Springs Cinema', '9:00 PM', 'A', 'Hector Elizondo', 2),\n",
       " ('Dear God', 'SOCAL Canyon Springs Cinema', '9:00 PM', 'A', 'Jon Seda', 2),\n",
       " ('Dear God', 'SOCAL Canyon Springs Cinema', '9:00 PM', 'A', 'Laurie Metcalf', 2),\n",
       " ('Dear God', 'SOCAL Canyon Springs Cinema', '9:00 PM', 'A', 'Maria Pitillo', 2),\n",
       " ('Dear God', 'SOCAL Canyon Springs Cinema', '9:00 PM', 'A', 'Roscoe Lee Browne', 2),\n",
       " ('Dear God', 'SOCAL Canyon Springs Cinema', '9:00 PM', 'A', 'Tim Conway', 2),\n",
       " ('Dear God', 'SOCAL Canyon Springs Cinema', '9:00 PM', 'D', 'Garry Marshall', 2),\n",
       " ('High School High', 'United Artists Riverside (Galleria) Tyler Mall', '9:00 PM', 'A', 'Jon Lovitz', 2),\n",
       " ('High School High', 'United Artists Riverside (Galleria) Tyler Mall', '9:00 PM', 'A', 'Mekhi Phifer', 2),\n",
       " ('High School High', 'United Artists Riverside (Galleria) Tyler Mall', '9:00 PM', 'A', 'Tia Carrera', 2),\n",
       " ('High School High', 'United Artists Riverside (Galleria) Tyler Mall', '9:00 PM', 'A', 'and Louise Fletcher', 2),\n",
       " ('High School High', 'United Artists Riverside (Galleria) Tyler Mall', '9:00 PM', 'D', 'Hart Bochner', 2)]"
      ]
     },
     "execution_count": 7,
     "metadata": {},
     "output_type": "execute_result"
    }
   ],
   "source": [
    "%%sql\n",
    "SELECT MTitle, TName, Showtime, CCode, CName, COUNT(*)\n",
    "FROM DATASET\n",
    "GROUP BY MTitle, TName, Showtime, CCode, CName\n",
    "HAVING COUNT(*) > 1"
   ]
  },
  {
   "cell_type": "markdown",
   "metadata": {},
   "source": [
    "5. **Drop the `DATASET` table.**  \n",
    "We don't need it anymore. "
   ]
  },
  {
   "cell_type": "code",
   "execution_count": 8,
   "metadata": {},
   "outputs": [
    {
     "name": "stdout",
     "output_type": "stream",
     "text": [
      " * sqlite:///Movies.db\n",
      "Done.\n"
     ]
    },
    {
     "data": {
      "text/plain": [
       "[]"
      ]
     },
     "execution_count": 8,
     "metadata": {},
     "output_type": "execute_result"
    }
   ],
   "source": [
    "%%sql \n",
    "DROP TABLE IF EXISTS DATASET"
   ]
  },
  {
   "cell_type": "markdown",
   "metadata": {},
   "source": [
    "6. **Save, commit, and push your work to GitHub.**  \n",
    "Use the commit summary comment \"Completed Part 3\"."
   ]
  },
  {
   "cell_type": "code",
   "execution_count": null,
   "metadata": {},
   "outputs": [],
   "source": []
  }
 ],
 "metadata": {
  "kernelspec": {
   "display_name": "Python 3",
   "language": "python",
   "name": "python3"
  },
  "language_info": {
   "codemirror_mode": {
    "name": "ipython",
    "version": 3
   },
   "file_extension": ".py",
   "mimetype": "text/x-python",
   "name": "python",
   "nbconvert_exporter": "python",
   "pygments_lexer": "ipython3",
   "version": "3.6.7"
  }
 },
 "nbformat": 4,
 "nbformat_minor": 2
}
